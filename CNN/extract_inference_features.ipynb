{
 "cells": [
  {
   "cell_type": "code",
   "execution_count": 5,
   "metadata": {},
   "outputs": [],
   "source": [
    "import pandas as pd\n",
    "import numpy as np\n",
    "import matplotlib.pyplot as plt\n",
    "import seaborn as sns\n",
    "import IPython.display as ipd\n",
    "import librosa\n",
    "import librosa.display\n",
    "import noisereduce as nr \n",
    "from tqdm import tqdm\n",
    "\n"
   ]
  },
  {
   "cell_type": "code",
   "execution_count": 6,
   "metadata": {},
   "outputs": [
    {
     "name": "stdout",
     "output_type": "stream",
     "text": [
      "              id     audio_filepath  duration\n",
      "0  id_u5iqtgjzhx  id_u5iqtgjzhx.wav   2.35800\n",
      "1  id_l7ebzcfk5e  id_l7ebzcfk5e.wav   3.22100\n",
      "2  id_jbzci8uepl  id_jbzci8uepl.wav   2.94898\n",
      "3  id_jzil0fw5vs  id_jzil0fw5vs.wav   4.33100\n",
      "4  id_o7mrvf5wj7  id_o7mrvf5wj7.wav   1.85600\n"
     ]
    }
   ],
   "source": [
    "metadata_df = pd.read_csv('../Test_1.csv')\n",
    "print(metadata_df.head())"
   ]
  },
  {
   "cell_type": "code",
   "execution_count": 7,
   "metadata": {},
   "outputs": [],
   "source": [
    "root_path = \"../TechCabal Ewe Audio Files/\"\n",
    "audio_path = root_path + metadata_df.iloc[0, 1]\n",
    "def denoise(sig, sr, threshold=2.0, is_stationary=True):\n",
    "    return nr.reduce_noise(y=sig, sr=sr, n_std_thresh_stationary=threshold, stationary=is_stationary)\n"
   ]
  },
  {
   "cell_type": "code",
   "execution_count": 9,
   "metadata": {},
   "outputs": [
    {
     "name": "stderr",
     "output_type": "stream",
     "text": [
      "100%|██████████| 2946/2946 [01:42<00:00, 28.71it/s]\n"
     ]
    }
   ],
   "source": [
    "def preprocess_audio(file_path, max_length, max_duration):\n",
    "    sig ,sr = librosa.load(file_path, duration=max_duration)\n",
    "    sig = denoise(sig, sr)\n",
    "    mfcc = librosa.feature.mfcc(y=sig, sr=sr, n_mfcc=40)\n",
    "    if mfcc.shape[1] > max_length:\n",
    "        mfcc = mfcc[:,:max_length]\n",
    "    else:\n",
    "        pad_width = max_length - mfcc.shape[1]\n",
    "        mfcc = np.pad(mfcc, pad_width=((0,0), (0, pad_width)), mode='constant')\n",
    "    return mfcc\n",
    "\n",
    "extracted_features = []\n",
    "target_mfcc_length = 115\n",
    "max_audio_duration = metadata_df['duration'].max()\n",
    "\n",
    "for idx in tqdm(range(len(metadata_df))):\n",
    "    audio_path = root_path + metadata_df.loc[idx, 'audio_filepath']\n",
    "    features = preprocess_audio(audio_path, target_mfcc_length, max_audio_duration)\n",
    "    extracted_features.append([features])"
   ]
  },
  {
   "cell_type": "code",
   "execution_count": 10,
   "metadata": {},
   "outputs": [
    {
     "data": {
      "text/html": [
       "<div>\n",
       "<style scoped>\n",
       "    .dataframe tbody tr th:only-of-type {\n",
       "        vertical-align: middle;\n",
       "    }\n",
       "\n",
       "    .dataframe tbody tr th {\n",
       "        vertical-align: top;\n",
       "    }\n",
       "\n",
       "    .dataframe thead th {\n",
       "        text-align: right;\n",
       "    }\n",
       "</style>\n",
       "<table border=\"1\" class=\"dataframe\">\n",
       "  <thead>\n",
       "    <tr style=\"text-align: right;\">\n",
       "      <th></th>\n",
       "      <th>features</th>\n",
       "    </tr>\n",
       "  </thead>\n",
       "  <tbody>\n",
       "    <tr>\n",
       "      <th>0</th>\n",
       "      <td>[[-806.3182, -787.3213, -772.769, -761.94727, ...</td>\n",
       "    </tr>\n",
       "    <tr>\n",
       "      <th>1</th>\n",
       "      <td>[[-658.06433, -658.06433, -658.06433, -658.064...</td>\n",
       "    </tr>\n",
       "    <tr>\n",
       "      <th>2</th>\n",
       "      <td>[[-775.6121, -751.0812, -736.7386, -723.77893,...</td>\n",
       "    </tr>\n",
       "    <tr>\n",
       "      <th>3</th>\n",
       "      <td>[[-597.01044, -597.01044, -597.01044, -564.812...</td>\n",
       "    </tr>\n",
       "    <tr>\n",
       "      <th>4</th>\n",
       "      <td>[[-746.0511, -746.0511, -746.0511, -746.0511, ...</td>\n",
       "    </tr>\n",
       "  </tbody>\n",
       "</table>\n",
       "</div>"
      ],
      "text/plain": [
       "                                            features\n",
       "0  [[-806.3182, -787.3213, -772.769, -761.94727, ...\n",
       "1  [[-658.06433, -658.06433, -658.06433, -658.064...\n",
       "2  [[-775.6121, -751.0812, -736.7386, -723.77893,...\n",
       "3  [[-597.01044, -597.01044, -597.01044, -564.812...\n",
       "4  [[-746.0511, -746.0511, -746.0511, -746.0511, ..."
      ]
     },
     "execution_count": 10,
     "metadata": {},
     "output_type": "execute_result"
    }
   ],
   "source": [
    "extracted_features_df = pd.DataFrame(extracted_features, columns=['features']\n",
    "                                     )\n",
    "extracted_features_df.head()\n"
   ]
  },
  {
   "cell_type": "code",
   "execution_count": 11,
   "metadata": {},
   "outputs": [
    {
     "data": {
      "text/plain": [
       "(40, 115)"
      ]
     },
     "execution_count": 11,
     "metadata": {},
     "output_type": "execute_result"
    }
   ],
   "source": [
    "extracted_features_df.loc[0, 'features']\n",
    "extracted_features_df.loc[0, 'features'].shape"
   ]
  },
  {
   "cell_type": "code",
   "execution_count": 12,
   "metadata": {},
   "outputs": [],
   "source": [
    "\n",
    "features = extracted_features_df['features'].tolist()"
   ]
  },
  {
   "cell_type": "code",
   "execution_count": 13,
   "metadata": {},
   "outputs": [
    {
     "name": "stdout",
     "output_type": "stream",
     "text": [
      "2946\n"
     ]
    }
   ],
   "source": [
    "print(len(features))\n"
   ]
  },
  {
   "cell_type": "code",
   "execution_count": 14,
   "metadata": {},
   "outputs": [],
   "source": [
    "# save features and labels separately\n",
    "np.save('val_features.npy', features)"
   ]
  },
  {
   "cell_type": "code",
   "execution_count": 41,
   "metadata": {},
   "outputs": [
    {
     "name": "stdout",
     "output_type": "stream",
     "text": [
      "(5334, 40, 115)\n",
      "(5334,)\n"
     ]
    }
   ],
   "source": [
    "#load features and labels\n",
    "features = np.load('features.npy')\n",
    "labels = np.load('labels.npy')\n",
    "\n",
    "print(features.shape)\n",
    "print(labels.shape)"
   ]
  },
  {
   "cell_type": "code",
   "execution_count": null,
   "metadata": {},
   "outputs": [],
   "source": []
  }
 ],
 "metadata": {
  "kernelspec": {
   "display_name": "Python 3",
   "language": "python",
   "name": "python3"
  },
  "language_info": {
   "codemirror_mode": {
    "name": "ipython",
    "version": 3
   },
   "file_extension": ".py",
   "mimetype": "text/x-python",
   "name": "python",
   "nbconvert_exporter": "python",
   "pygments_lexer": "ipython3",
   "version": "3.11.9"
  }
 },
 "nbformat": 4,
 "nbformat_minor": 2
}
